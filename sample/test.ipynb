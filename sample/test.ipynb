{
 "cells": [
  {
   "cell_type": "code",
   "execution_count": 3,
   "metadata": {},
   "outputs": [],
   "source": [
    "import gilot\n",
    "import gilot.core\n",
    "d = gilot.from_csvs([\"../mcs.csv\"])"
   ]
  },
  {
   "cell_type": "code",
   "execution_count": 2,
   "metadata": {},
   "outputs": [
    {
     "output_type": "execute_result",
     "data": {
      "text/plain": "                      date                                    hexsha  \\\n0      2020-06-11 18:18:42  f21b5e40d65b83486ffbfa5191899374e4f89ad5   \n1      2020-06-11 18:18:42  f21b5e40d65b83486ffbfa5191899374e4f89ad5   \n2      2020-06-11 18:18:42  f21b5e40d65b83486ffbfa5191899374e4f89ad5   \n3      2020-06-11 18:18:42  f21b5e40d65b83486ffbfa5191899374e4f89ad5   \n4      2020-06-11 18:18:42  f21b5e40d65b83486ffbfa5191899374e4f89ad5   \n...                    ...                                       ...   \n50024  2019-12-13 12:15:22  68a682a4e31f5fc1625295d931729e2f448d90bc   \n50025  2019-12-13 12:15:22  68a682a4e31f5fc1625295d931729e2f448d90bc   \n50026  2019-12-13 11:50:55  95bbdb79ce02f6f4d4cac80e25901ebede630ac6   \n50027  2019-12-13 11:44:10  9fee7eb4ae19c33128f3c7401c9541c2c3539a32   \n50028  2019-12-13 11:44:10  9fee7eb4ae19c33128f3c7401c9541c2c3539a32   \n\n             author                                          file_name  \\\n0      Masato Egami       app/assets/javascripts/common/helpbox.coffee   \n1      Masato Egami       app/assets/javascripts/common/storage.coffee   \n2      Masato Egami  app/assets/javascripts/operations/action_plann...   \n3      Masato Egami  app/assets/javascripts/operations/company_sett...   \n4      Masato Egami  app/assets/javascripts/operations/error_mails....   \n...             ...                                                ...   \n50024    Haruka Ito                                  lib/batch/base.rb   \n50025    Haruka Ito                       spec/libs/batch/base_spec.rb   \n50026    Haruka Ito                       spec/libs/batch/base_spec.rb   \n50027     tanikento         app/models/company_user_csv_import_task.rb   \n50028     tanikento   spec/models/company_user_csv_import_task_spec.rb   \n\n       insertions  deletions  lines  \n0              10          0     10  \n1              20          0     20  \n2              11          0     11  \n3              13          1     14  \n4              14          0     14  \n...           ...        ...    ...  \n50024           1          1      2  \n50025           0          1      1  \n50026          86         17    103  \n50027          27         28     55  \n50028          25          0     25  \n\n[50029 rows x 7 columns]",
      "text/html": "<div>\n<style scoped>\n    .dataframe tbody tr th:only-of-type {\n        vertical-align: middle;\n    }\n\n    .dataframe tbody tr th {\n        vertical-align: top;\n    }\n\n    .dataframe thead th {\n        text-align: right;\n    }\n</style>\n<table border=\"1\" class=\"dataframe\">\n  <thead>\n    <tr style=\"text-align: right;\">\n      <th></th>\n      <th>date</th>\n      <th>hexsha</th>\n      <th>author</th>\n      <th>file_name</th>\n      <th>insertions</th>\n      <th>deletions</th>\n      <th>lines</th>\n    </tr>\n  </thead>\n  <tbody>\n    <tr>\n      <th>0</th>\n      <td>2020-06-11 18:18:42</td>\n      <td>f21b5e40d65b83486ffbfa5191899374e4f89ad5</td>\n      <td>Masato Egami</td>\n      <td>app/assets/javascripts/common/helpbox.coffee</td>\n      <td>10</td>\n      <td>0</td>\n      <td>10</td>\n    </tr>\n    <tr>\n      <th>1</th>\n      <td>2020-06-11 18:18:42</td>\n      <td>f21b5e40d65b83486ffbfa5191899374e4f89ad5</td>\n      <td>Masato Egami</td>\n      <td>app/assets/javascripts/common/storage.coffee</td>\n      <td>20</td>\n      <td>0</td>\n      <td>20</td>\n    </tr>\n    <tr>\n      <th>2</th>\n      <td>2020-06-11 18:18:42</td>\n      <td>f21b5e40d65b83486ffbfa5191899374e4f89ad5</td>\n      <td>Masato Egami</td>\n      <td>app/assets/javascripts/operations/action_plann...</td>\n      <td>11</td>\n      <td>0</td>\n      <td>11</td>\n    </tr>\n    <tr>\n      <th>3</th>\n      <td>2020-06-11 18:18:42</td>\n      <td>f21b5e40d65b83486ffbfa5191899374e4f89ad5</td>\n      <td>Masato Egami</td>\n      <td>app/assets/javascripts/operations/company_sett...</td>\n      <td>13</td>\n      <td>1</td>\n      <td>14</td>\n    </tr>\n    <tr>\n      <th>4</th>\n      <td>2020-06-11 18:18:42</td>\n      <td>f21b5e40d65b83486ffbfa5191899374e4f89ad5</td>\n      <td>Masato Egami</td>\n      <td>app/assets/javascripts/operations/error_mails....</td>\n      <td>14</td>\n      <td>0</td>\n      <td>14</td>\n    </tr>\n    <tr>\n      <th>...</th>\n      <td>...</td>\n      <td>...</td>\n      <td>...</td>\n      <td>...</td>\n      <td>...</td>\n      <td>...</td>\n      <td>...</td>\n    </tr>\n    <tr>\n      <th>50024</th>\n      <td>2019-12-13 12:15:22</td>\n      <td>68a682a4e31f5fc1625295d931729e2f448d90bc</td>\n      <td>Haruka Ito</td>\n      <td>lib/batch/base.rb</td>\n      <td>1</td>\n      <td>1</td>\n      <td>2</td>\n    </tr>\n    <tr>\n      <th>50025</th>\n      <td>2019-12-13 12:15:22</td>\n      <td>68a682a4e31f5fc1625295d931729e2f448d90bc</td>\n      <td>Haruka Ito</td>\n      <td>spec/libs/batch/base_spec.rb</td>\n      <td>0</td>\n      <td>1</td>\n      <td>1</td>\n    </tr>\n    <tr>\n      <th>50026</th>\n      <td>2019-12-13 11:50:55</td>\n      <td>95bbdb79ce02f6f4d4cac80e25901ebede630ac6</td>\n      <td>Haruka Ito</td>\n      <td>spec/libs/batch/base_spec.rb</td>\n      <td>86</td>\n      <td>17</td>\n      <td>103</td>\n    </tr>\n    <tr>\n      <th>50027</th>\n      <td>2019-12-13 11:44:10</td>\n      <td>9fee7eb4ae19c33128f3c7401c9541c2c3539a32</td>\n      <td>tanikento</td>\n      <td>app/models/company_user_csv_import_task.rb</td>\n      <td>27</td>\n      <td>28</td>\n      <td>55</td>\n    </tr>\n    <tr>\n      <th>50028</th>\n      <td>2019-12-13 11:44:10</td>\n      <td>9fee7eb4ae19c33128f3c7401c9541c2c3539a32</td>\n      <td>tanikento</td>\n      <td>spec/models/company_user_csv_import_task_spec.rb</td>\n      <td>25</td>\n      <td>0</td>\n      <td>25</td>\n    </tr>\n  </tbody>\n</table>\n<p>50029 rows × 7 columns</p>\n</div>"
     },
     "metadata": {},
     "execution_count": 2
    }
   ],
   "source": [
    "d.expand_files()\n"
   ]
  },
  {
   "cell_type": "code",
   "execution_count": 4,
   "metadata": {},
   "outputs": [],
   "source": [
    "edf = gilot.core.expand_files(d)\n"
   ]
  },
  {
   "cell_type": "code",
   "execution_count": 21,
   "metadata": {},
   "outputs": [],
   "source": [
    "edf[]\n",
    "vc = edf[\"file_name\"].value_counts()[0:40]"
   ]
  },
  {
   "cell_type": "code",
   "execution_count": 22,
   "metadata": {},
   "outputs": [
    {
     "output_type": "execute_result",
     "data": {
      "text/plain": "app/models/magellan_summary_result.rb                                            246\ndb/schema.rb                                                                     226\napp/frontend/javascript/answer/store/index.js                                    206\napp/models/mail_send_manage.rb                                                   175\nconfig/initializers/constants.rb                                                 170\napp/models/magellan_report.rb                                                    148\nspec/models/mail_send_manage_spec.rb                                             147\nlib/tasks/mcs_patch.rake                                                         142\nconfig/schedule.rb                                                               137\napp/models/engagement_survey.rb                                                  133\napp/frontend/javascript/answer/pages/engagement-survey/EsParentAttributes.vue    131\nspec/models/engagement_survey_spec.rb                                            131\nconfig/routes.rb                                                                 130\n.env.production                                                                  126\nspec/libs/batch/mcs_mail/send_mail_by_the_company_process_spec.rb                118\napp/models/magellan_check_survey_setting.rb                                      118\nspec/models/magellan_summary_result_spec.rb                                      116\napp/models/survey.rb                                                             115\napp/frontend/javascript/stores/api.js                                            113\nspec/models/magellan_report_spec.rb                                              113\nspec/models/company_spec.rb                                                      113\n.env.development                                                                 113\napp/models/mail_type.rb                                                          111\napp/services/company/send_mail/send_mail_by_api_service.rb                       109\nspec/libs/batch/mcs_mail/send_mail_by_api_process_spec.rb                        108\nspec/models/mail_type_spec.rb                                                    107\nlib/tasks/mcs_task.rake                                                          103\nlib/batch/mcs_mail/send_mail_by_api_process.rb                                   103\napp/controllers/api/v2/magellan_summary_results_controller.rb                    101\napp/assets/javascripts/operations/magellan_check_survey_settings.coffee          101\napp/models/company.rb                                                            101\nspec/services/send_grid_service_spec.rb                                           97\nspec/services/operations/company_users/update_service_spec.rb                     97\napp/models/user.rb                                                                95\napp/models/answerer.rb                                                            94\napp/services/operations/company_users/update_service.rb                           93\napp/frontend/javascript/routes.js                                                 93\nspec/api/v2/surveys/result_statuses_controller_spec.rb                            93\nspec/libs/batch/mcs_csv/import_process_spec.rb                                    92\napp/controllers/application_controller.rb                                         91\nName: file_name, dtype: int64"
     },
     "metadata": {},
     "execution_count": 22
    }
   ],
   "source": [
    "\n",
    "vc"
   ]
  },
  {
   "cell_type": "code",
   "execution_count": 29,
   "metadata": {},
   "outputs": [],
   "source": [
    "import pandas as pd\n",
    "class Test(pd.DataFrame):\n",
    "    def test(self) :\n",
    "        return \"hello\"\n"
   ]
  },
  {
   "cell_type": "code",
   "execution_count": 49,
   "metadata": {},
   "outputs": [
    {
     "output_type": "execute_result",
     "data": {
      "text/plain": "__main__.Test"
     },
     "metadata": {},
     "execution_count": 49
    }
   ],
   "source": [
    "a =Test([[1,2,3],[4,5,6]],index =[\"a\",\"b\"],columns=[\"x\",\"y\",\"z\"])\n",
    "b = pd.DataFrame([[1,2,3],[4,5,6]],index =[\"a\",\"b\"],columns=[\"x\",\"y\",\"zz\"])\n",
    "c = Test(b.to_numpy(),index=b.index,columns=b.columns)\n",
    "\n",
    "type(c)\n",
    "#print(type(a),Test(b.to_numpy()))"
   ]
  },
  {
   "cell_type": "code",
   "execution_count": null,
   "metadata": {},
   "outputs": [],
   "source": []
  }
 ],
 "metadata": {
  "language_info": {
   "codemirror_mode": {
    "name": "ipython",
    "version": 3
   },
   "file_extension": ".py",
   "mimetype": "text/x-python",
   "name": "python",
   "nbconvert_exporter": "python",
   "pygments_lexer": "ipython3",
   "version": "3.7.6-final"
  },
  "orig_nbformat": 2,
  "kernelspec": {
   "name": "python37664bitb87193a5a712411bbdb7b45f827bcc44",
   "display_name": "Python 3.7.6 64-bit"
  }
 },
 "nbformat": 4,
 "nbformat_minor": 2
}