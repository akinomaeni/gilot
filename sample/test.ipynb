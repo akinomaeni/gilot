{
 "cells": [
  {
   "cell_type": "code",
   "execution_count": 1,
   "metadata": {},
   "outputs": [],
   "source": [
    "import gilot\n",
    "import gilot.core\n",
    "d = gilot.from_csvs([\"../mcs.csv\"])"
   ]
  },
  {
   "cell_type": "code",
   "execution_count": 11,
   "metadata": {
    "tags": [
     "outputPrepend",
     "outputPrepend",
     "outputPrepend",
     "outputPrepend"
    ]
   },
   "outputs": [
    {
     "output_type": "stream",
     "name": "stdout",
     "text": "246 app/models/magellan_summary_result.rb\n226 db/schema.rb\n206 app/frontend/javascript/answer/store/index.js\n175 app/models/mail_send_manage.rb\n170 config/initializers/constants.rb\n148 app/models/magellan_report.rb\n147 spec/models/mail_send_manage_spec.rb\n142 lib/tasks/mcs_patch.rake\n137 config/schedule.rb\n133 app/models/engagement_survey.rb\n131 app/frontend/javascript/answer/pages/engagement-survey/EsParentAttributes.vue\n131 spec/models/engagement_survey_spec.rb\n130 config/routes.rb\n126 .env.production\n118 app/models/magellan_check_survey_setting.rb\n118 spec/libs/batch/mcs_mail/send_mail_by_the_company_process_spec.rb\n116 spec/models/magellan_summary_result_spec.rb\n115 app/models/survey.rb\n113 spec/models/magellan_report_spec.rb\n113 .env.development\n"
    }
   ],
   "source": [
    "x = d.expand_files()\n",
    "vs = x[\"file_name\"].value_counts()[0:20]\n",
    "for k,v in vs.iteritems():\n",
    "    print(v,k)"
   ]
  },
  {
   "cell_type": "code",
   "execution_count": 4,
   "metadata": {},
   "outputs": [],
   "source": [
    "edf = gilot.core.expand_files(d)\n"
   ]
  },
  {
   "cell_type": "code",
   "execution_count": 21,
   "metadata": {},
   "outputs": [],
   "source": [
    "edf[]\n",
    "vc = edf[\"file_name\"].value_counts()[0:40]"
   ]
  },
  {
   "cell_type": "code",
   "execution_count": 22,
   "metadata": {},
   "outputs": [
    {
     "output_type": "execute_result",
     "data": {
      "text/plain": "app/models/magellan_summary_result.rb                                            246\ndb/schema.rb                                                                     226\napp/frontend/javascript/answer/store/index.js                                    206\napp/models/mail_send_manage.rb                                                   175\nconfig/initializers/constants.rb                                                 170\napp/models/magellan_report.rb                                                    148\nspec/models/mail_send_manage_spec.rb                                             147\nlib/tasks/mcs_patch.rake                                                         142\nconfig/schedule.rb                                                               137\napp/models/engagement_survey.rb                                                  133\napp/frontend/javascript/answer/pages/engagement-survey/EsParentAttributes.vue    131\nspec/models/engagement_survey_spec.rb                                            131\nconfig/routes.rb                                                                 130\n.env.production                                                                  126\nspec/libs/batch/mcs_mail/send_mail_by_the_company_process_spec.rb                118\napp/models/magellan_check_survey_setting.rb                                      118\nspec/models/magellan_summary_result_spec.rb                                      116\napp/models/survey.rb                                                             115\napp/frontend/javascript/stores/api.js                                            113\nspec/models/magellan_report_spec.rb                                              113\nspec/models/company_spec.rb                                                      113\n.env.development                                                                 113\napp/models/mail_type.rb                                                          111\napp/services/company/send_mail/send_mail_by_api_service.rb                       109\nspec/libs/batch/mcs_mail/send_mail_by_api_process_spec.rb                        108\nspec/models/mail_type_spec.rb                                                    107\nlib/tasks/mcs_task.rake                                                          103\nlib/batch/mcs_mail/send_mail_by_api_process.rb                                   103\napp/controllers/api/v2/magellan_summary_results_controller.rb                    101\napp/assets/javascripts/operations/magellan_check_survey_settings.coffee          101\napp/models/company.rb                                                            101\nspec/services/send_grid_service_spec.rb                                           97\nspec/services/operations/company_users/update_service_spec.rb                     97\napp/models/user.rb                                                                95\napp/models/answerer.rb                                                            94\napp/services/operations/company_users/update_service.rb                           93\napp/frontend/javascript/routes.js                                                 93\nspec/api/v2/surveys/result_statuses_controller_spec.rb                            93\nspec/libs/batch/mcs_csv/import_process_spec.rb                                    92\napp/controllers/application_controller.rb                                         91\nName: file_name, dtype: int64"
     },
     "metadata": {},
     "execution_count": 22
    }
   ],
   "source": [
    "\n",
    "vc"
   ]
  },
  {
   "cell_type": "code",
   "execution_count": 29,
   "metadata": {},
   "outputs": [],
   "source": [
    "import pandas as pd\n",
    "class Test(pd.DataFrame):\n",
    "    def test(self) :\n",
    "        return \"hello\"\n"
   ]
  },
  {
   "cell_type": "code",
   "execution_count": 49,
   "metadata": {},
   "outputs": [
    {
     "output_type": "execute_result",
     "data": {
      "text/plain": "__main__.Test"
     },
     "metadata": {},
     "execution_count": 49
    }
   ],
   "source": [
    "a =Test([[1,2,3],[4,5,6]],index =[\"a\",\"b\"],columns=[\"x\",\"y\",\"z\"])\n",
    "b = pd.DataFrame([[1,2,3],[4,5,6]],index =[\"a\",\"b\"],columns=[\"x\",\"y\",\"zz\"])\n",
    "c = Test(b.to_numpy(),index=b.index,columns=b.columns)\n",
    "\n",
    "type(c)\n",
    "#print(type(a),Test(b.to_numpy()))"
   ]
  },
  {
   "cell_type": "code",
   "execution_count": null,
   "metadata": {},
   "outputs": [],
   "source": []
  }
 ],
 "metadata": {
  "language_info": {
   "codemirror_mode": {
    "name": "ipython",
    "version": 3
   },
   "file_extension": ".py",
   "mimetype": "text/x-python",
   "name": "python",
   "nbconvert_exporter": "python",
   "pygments_lexer": "ipython3",
   "version": "3.7.6-final"
  },
  "orig_nbformat": 2,
  "kernelspec": {
   "name": "python37664bitb87193a5a712411bbdb7b45f827bcc44",
   "display_name": "Python 3.7.6 64-bit"
  }
 },
 "nbformat": 4,
 "nbformat_minor": 2
}